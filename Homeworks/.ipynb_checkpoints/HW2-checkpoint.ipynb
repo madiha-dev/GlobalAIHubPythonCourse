{
 "cells": [
  {
   "cell_type": "markdown",
   "id": "lovely-chorus",
   "metadata": {},
   "source": [
    "**User Login Application**\n",
    "\n",
    "    - Get Username and Password values from the user.\n",
    "    - Check the valuess in an if statement and tell the user if they are successful."
   ]
  },
  {
   "cell_type": "code",
   "execution_count": 1,
   "id": "induced-ceramic",
   "metadata": {},
   "outputs": [],
   "source": [
    "def login_fun(username, password):\n",
    "    user = \"TuanaCelik\"\n",
    "    passwrd = \"GlobalAIHub\"\n",
    "    if (username == user and password != passwrd) : print(\"    Invalid Password  \")\n",
    "    elif (username != user and password == passwrd) : print(\"    Invalid User Name  \")\n",
    "    elif (username != user and password != passwrd) : print(\" Invalid User Name and Password \")\n",
    "    else: print(\"   Log In successful \")"
   ]
  },
  {
   "cell_type": "code",
   "execution_count": 4,
   "id": "damaged-timber",
   "metadata": {},
   "outputs": [
    {
     "name": "stdout",
     "output_type": "stream",
     "text": [
      "--User Login Application--\n",
      "\n",
      "Username or Email Address\n",
      "   GlobalAIHub\n",
      "\n",
      "Password\n",
      "   GlobalAIHub\n",
      "\n",
      "--------- Log In ---------\n",
      "\n",
      "   ← Go to Global AI Hub \n",
      "\n",
      "--------------------------\n",
      "    Invalid User Name  \n",
      "--------------------------\n"
     ]
    }
   ],
   "source": [
    "print(\"--User Login Application--\\n\")\n",
    "\n",
    "print(\"Username or Email Address\")\n",
    "user_name = input(\"   \")\n",
    "\n",
    "print(\"\\nPassword\")\n",
    "password = input(\"   \")\n",
    "\n",
    "print(\"\\n--------- Log In ---------\")\n",
    "print(\"\\n   ← Go to Global AI Hub \\n\")\n",
    "print(\"--------------------------\")\n",
    "\n",
    "login_fun(user_name, password)\n",
    "\n",
    "print(\"--------------------------\")"
   ]
  },
  {
   "cell_type": "markdown",
   "id": "acknowledged-absorption",
   "metadata": {},
   "source": [
    "**Extra**\n",
    "\n",
    "    - Try building the same user login application but this time, use a dictionary! "
   ]
  },
  {
   "cell_type": "code",
   "execution_count": 5,
   "id": "suspected-divide",
   "metadata": {},
   "outputs": [],
   "source": [
    "original_data = {'TuanaCelik': 'GlobalAIHub'}"
   ]
  },
  {
   "cell_type": "code",
   "execution_count": 6,
   "id": "latin-dialogue",
   "metadata": {},
   "outputs": [],
   "source": [
    "def checkUser(username):\n",
    "    for k in original_data.keys():\n",
    "        if k == username :\n",
    "            return True"
   ]
  },
  {
   "cell_type": "code",
   "execution_count": 7,
   "id": "competent-birthday",
   "metadata": {},
   "outputs": [],
   "source": [
    "def checkPassword(password):\n",
    "    for v in original_data.values():\n",
    "        if v == password :\n",
    "            return True"
   ]
  },
  {
   "cell_type": "code",
   "execution_count": 8,
   "id": "affiliated-voluntary",
   "metadata": {},
   "outputs": [
    {
     "name": "stdout",
     "output_type": "stream",
     "text": [
      "--User Login Application--\n",
      "\n",
      "Username or Email Address\n",
      "   GlobalAIHub\n",
      "\n",
      "Password\n",
      "   GlobalAIHub\n",
      "\n",
      "------------ Log In ------------\n",
      "\n",
      "      ← Go to Global AI Hub \n",
      "\n",
      "--------------------------------\n",
      "    Invalid User Name  \n"
     ]
    }
   ],
   "source": [
    "print(\"--User Login Application--\\n\")\n",
    "\n",
    "print(\"Username or Email Address\")\n",
    "username = input(\"   \")\n",
    "\n",
    "print(\"\\nPassword\")\n",
    "password = input(\"   \")\n",
    "\n",
    "print(\"\\n------------ Log In ------------\")\n",
    "print(\"\\n      ← Go to Global AI Hub \\n\")\n",
    "print(\"--------------------------------\")\n",
    "\n",
    "if (checkUser(username) == True) and (checkPassword(password) != True) : print(\"    Invalid Password  \")\n",
    "elif (checkUser(username) != True) and (checkPassword(password) == True) : print(\"    Invalid User Name  \")\n",
    "elif (checkUser(username) != True) and (checkPassword(password) != True) : print(\" Invalid User Name and Password \")\n",
    "else: print(\"   Log In successful \")"
   ]
  },
  {
   "cell_type": "code",
   "execution_count": null,
   "id": "laughing-vegetable",
   "metadata": {},
   "outputs": [],
   "source": []
  }
 ],
 "metadata": {
  "kernelspec": {
   "display_name": "Python 3",
   "language": "python",
   "name": "python3"
  },
  "language_info": {
   "codemirror_mode": {
    "name": "ipython",
    "version": 3
   },
   "file_extension": ".py",
   "mimetype": "text/x-python",
   "name": "python",
   "nbconvert_exporter": "python",
   "pygments_lexer": "ipython3",
   "version": "3.8.5"
  }
 },
 "nbformat": 4,
 "nbformat_minor": 5
}
