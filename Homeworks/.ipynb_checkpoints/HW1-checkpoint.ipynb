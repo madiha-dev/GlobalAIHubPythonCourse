{
 "cells": [
  {
   "cell_type": "markdown",
   "id": "collected-facility",
   "metadata": {},
   "source": [
    "**1 -** Create a List and swap the second half of the list with the first  half of the list and print this list on the screen."
   ]
  },
  {
   "cell_type": "code",
   "execution_count": 206,
   "id": "covered-australia",
   "metadata": {},
   "outputs": [
    {
     "name": "stdout",
     "output_type": "stream",
     "text": [
      "Plesae enter the size of list: 6\n",
      "\n",
      "Original List: [0, 1, 2, 3, 4, 5]\n",
      "\n",
      "List after swapping:  [3, 4, 5, 0, 1, 2]\n"
     ]
    }
   ],
   "source": [
    "list_size = int(input(\"Plesae enter the size of list: \"))\n",
    "List = list(range(list_size))\n",
    "print(\"\\nOriginal List: \" + str(List))\n",
    "\n",
    "# Check weather size is Even or Odd , for Odd size need to add 1, Middle item can't replace with any other item\n",
    "size_half = int(list_size/2) if (list_size % 2) == 0 else int(list_size/2)+1  \n",
    "\n",
    "x = 0\n",
    "\n",
    "for x in range(int(list_size/2)):\n",
    "    List[x], List[size_half] = List[size_half], List[x] #replace index for swapping\n",
    "    size_half += 1\n",
    "    \n",
    "print(\"\\nList after swapping: \", str(List))"
   ]
  },
  {
   "cell_type": "markdown",
   "id": "occupational-article",
   "metadata": {},
   "source": [
    "**2 -** Ask the user to input a single digit integer to a variable 'n'.\n",
    "        Then, print out all of the even numbers from 0 to n (including n)."
   ]
  },
  {
   "cell_type": "code",
   "execution_count": 207,
   "id": "august-advocacy",
   "metadata": {},
   "outputs": [
    {
     "name": "stdout",
     "output_type": "stream",
     "text": [
      "Please enter a single digit integer: 6\n",
      "\n",
      "List of all Even Numbers from 0 to 6:  [0, 2, 4, 6]\n"
     ]
    }
   ],
   "source": [
    "n = int( input(\"Please enter a single digit integer: \"))\n",
    "List = list([])\n",
    "\n",
    "# Using range(start, stop, step) where step is 2, the difference b/w 2 consuctive even numbers is 2\n",
    "\n",
    "for x in range(0, n+1, 2):\n",
    "    List.append(x)\n",
    "        \n",
    "print(f\"\\nList of all Even Numbers from 0 to {n}: \", str(List))"
   ]
  },
  {
   "cell_type": "code",
   "execution_count": 208,
   "id": "unlimited-entrepreneur",
   "metadata": {},
   "outputs": [
    {
     "name": "stdout",
     "output_type": "stream",
     "text": [
      "Please enter a single digit integer: 6\n",
      "\n",
      "List of all Even Numbers from 0 to 6:  [0, 2, 4, 6]\n"
     ]
    }
   ],
   "source": [
    "n = int( input(\"Please enter a single digit integer: \"))\n",
    "List = list([])\n",
    "\n",
    "# Using if condition by checking remainder. \n",
    "for x in range(n+1):\n",
    "    if( x % 2 ) == 0 : List.append(x)\n",
    "        \n",
    "print(f\"\\nList of all Even Numbers from 0 to {n}: \", str(List))"
   ]
  },
  {
   "cell_type": "code",
   "execution_count": null,
   "id": "horizontal-virtue",
   "metadata": {},
   "outputs": [],
   "source": []
  }
 ],
 "metadata": {
  "kernelspec": {
   "display_name": "Python 3",
   "language": "python",
   "name": "python3"
  },
  "language_info": {
   "codemirror_mode": {
    "name": "ipython",
    "version": 3
   },
   "file_extension": ".py",
   "mimetype": "text/x-python",
   "name": "python",
   "nbconvert_exporter": "python",
   "pygments_lexer": "ipython3",
   "version": "3.8.5"
  }
 },
 "nbformat": 4,
 "nbformat_minor": 5
}
