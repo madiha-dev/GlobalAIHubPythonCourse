{
 "cells": [
  {
   "cell_type": "markdown",
   "id": "mechanical-pierce",
   "metadata": {},
   "source": [
    " - Create three classes named Animals, Dogs and Cats. Add some features to these classes. Create some functions with these attributes. Don't forget! You have to do it using inheritance."
   ]
  },
  {
   "cell_type": "code",
   "execution_count": 45,
   "id": "extended-enforcement",
   "metadata": {},
   "outputs": [],
   "source": [
    "# Parent class\n",
    "class Animals(object):\n",
    "    def __init__(self, pet_name, owner, breed, color):\n",
    "        self.pet_name = pet_name\n",
    "        self.owner = owner\n",
    "        self.breed = breed\n",
    "        self.color = color\n",
    "        \n",
    "    def PetOwnership(self):\n",
    "        print(\"{0} is the owner of {1}.\".format( self.owner, self.pet_name ))\n",
    "        \n",
    "    def PetDetails(self):\n",
    "        print(\"{0}'s breed is {1} and has {2} color.\".format( self.pet_name, self.breed, self.color ))\n",
    "        "
   ]
  },
  {
   "cell_type": "code",
   "execution_count": 46,
   "id": "parliamentary-worry",
   "metadata": {},
   "outputs": [],
   "source": [
    "# drived class\n",
    "class Dogs(Animals):\n",
    "    def __init__(self, pet_name, owner, breed, color, origin):\n",
    "            self.origin = origin\n",
    "            \n",
    "            # Invoke __init__ from Animal class\n",
    "            Animals.__init__(self, pet_name, owner, breed, color)\n",
    "            "
   ]
  },
  {
   "cell_type": "code",
   "execution_count": 47,
   "id": "changed-segment",
   "metadata": {},
   "outputs": [],
   "source": [
    "# drived class\n",
    "class Cats(Animals):\n",
    "    def __init__(self, pet_name, owner, breed, color, origin, nickname):\n",
    "            self.origin = origin\n",
    "            self.nickname = nickname\n",
    "            \n",
    "            # Invoke __init__ from Animal class\n",
    "            Animals.__init__(self, pet_name, owner, breed, color)\n",
    "            "
   ]
  },
  {
   "cell_type": "code",
   "execution_count": 44,
   "id": "flying-visitor",
   "metadata": {},
   "outputs": [
    {
     "name": "stdout",
     "output_type": "stream",
     "text": [
      " **Dog Details**\n",
      "\n",
      "Charlie is the owner of Cooper.\n",
      "Cooper's breed is Labrador Retriever and has Black color.\n",
      "\n",
      "\n",
      " **Cat Details**\n",
      "\n",
      "Oliver is the owner of Coco.\n",
      "Coco's breed is Himalayan and has Lilac color.\n"
     ]
    }
   ],
   "source": [
    "# Create an instance\n",
    "dog = Dogs('Cooper', 'Charlie', 'Labrador Retriever', 'Black', 'Newfoundland')\n",
    "cat = Cats('Coco', 'Oliver', 'Himalayan', 'Lilac', 'United States', 'Himmy')\n",
    "\n",
    "# Calling functions of Animal class using instances\n",
    "print(\" **Dog Details**\\n\")\n",
    "dog.PetOwnership()\n",
    "dog.PetDetails()\n",
    "\n",
    "print(\"\\n\\n **Cat Details**\\n\")\n",
    "cat.PetOwnership()\n",
    "cat.PetDetails()"
   ]
  }
 ],
 "metadata": {
  "kernelspec": {
   "display_name": "Python 3",
   "language": "python",
   "name": "python3"
  },
  "language_info": {
   "codemirror_mode": {
    "name": "ipython",
    "version": 3
   },
   "file_extension": ".py",
   "mimetype": "text/x-python",
   "name": "python",
   "nbconvert_exporter": "python",
   "pygments_lexer": "ipython3",
   "version": "3.8.5"
  }
 },
 "nbformat": 4,
 "nbformat_minor": 5
}
