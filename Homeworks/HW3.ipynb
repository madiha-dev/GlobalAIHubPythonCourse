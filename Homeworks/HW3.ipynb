{
 "cells": [
  {
   "cell_type": "markdown",
   "id": "resistant-frost",
   "metadata": {},
   "source": [
    "  Finding prime numbers between 0 and 100 using functions"
   ]
  },
  {
   "cell_type": "code",
   "execution_count": 62,
   "id": "outside-upper",
   "metadata": {},
   "outputs": [],
   "source": [
    "# Check the number is prime or not\n",
    "def isPrime(n):\n",
    "    if  (n != 0) and (n != 1) :\n",
    "        for x in range ( 2, n ):\n",
    "            if( n % x == 0 ):\n",
    "                return False\n",
    "        return True"
   ]
  },
  {
   "cell_type": "code",
   "execution_count": 58,
   "id": "offshore-anger",
   "metadata": {},
   "outputs": [],
   "source": [
    "# Return list of prime numbers upto an upper limit\n",
    "def Prime_Number_List(num):\n",
    "    for i in range ( 0, num ):\n",
    "        if isPrime(i) == True:\n",
    "            print (i)\n",
    "                "
   ]
  },
  {
   "cell_type": "code",
   "execution_count": 65,
   "id": "hollow-society",
   "metadata": {},
   "outputs": [
    {
     "name": "stdout",
     "output_type": "stream",
     "text": [
      "2\n",
      "3\n",
      "5\n",
      "7\n",
      "11\n",
      "13\n",
      "17\n",
      "19\n",
      "23\n",
      "29\n",
      "31\n",
      "37\n",
      "41\n",
      "43\n",
      "47\n",
      "53\n",
      "59\n",
      "61\n",
      "67\n",
      "71\n",
      "73\n",
      "79\n",
      "83\n",
      "89\n",
      "97\n"
     ]
    }
   ],
   "source": [
    "# print prime number between 0 and 100\n",
    "Prime_Number_List(100)"
   ]
  },
  {
   "cell_type": "code",
   "execution_count": null,
   "id": "restricted-royal",
   "metadata": {},
   "outputs": [],
   "source": []
  }
 ],
 "metadata": {
  "kernelspec": {
   "display_name": "Python 3",
   "language": "python",
   "name": "python3"
  },
  "language_info": {
   "codemirror_mode": {
    "name": "ipython",
    "version": 3
   },
   "file_extension": ".py",
   "mimetype": "text/x-python",
   "name": "python",
   "nbconvert_exporter": "python",
   "pygments_lexer": "ipython3",
   "version": "3.8.5"
  }
 },
 "nbformat": 4,
 "nbformat_minor": 5
}
