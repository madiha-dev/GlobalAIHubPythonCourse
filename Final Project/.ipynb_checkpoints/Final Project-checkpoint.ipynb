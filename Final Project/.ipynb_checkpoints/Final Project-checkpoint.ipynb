{
 "cells": [
  {
   "cell_type": "markdown",
   "id": "radio-laser",
   "metadata": {},
   "source": [
    "**Final Project**\n",
    "\n",
    "    - Company Management System: Determine the names and ages of employees, company managers, and the language they can speak. Then write a program that will print the languages that any of the employees can speek. In this project, complete the project by creating two classes named employees and manager."
   ]
  },
  {
   "cell_type": "code",
   "execution_count": 63,
   "id": "psychological-doctrine",
   "metadata": {},
   "outputs": [],
   "source": [
    "# Parent class\n",
    "class Employees(object):\n",
    "    def __init__(self, name, age, designation, language):\n",
    "        self.name = name\n",
    "        self.age = age\n",
    "        self.designation = designation\n",
    "        self.language = language\n",
    "\n",
    "    def Language(self):\n",
    "        print( self.language )"
   ]
  },
  {
   "cell_type": "code",
   "execution_count": 66,
   "id": "metropolitan-shannon",
   "metadata": {},
   "outputs": [],
   "source": [
    "# Child class\n",
    "class Manager(Employees):\n",
    "    def __init__(self, name, age, designation, language):\n",
    "        \n",
    "         # Invoke __init__ from Parent class\n",
    "            Employees.__init__(self, name, age, designation, language)"
   ]
  },
  {
   "cell_type": "code",
   "execution_count": 67,
   "id": "russian-kazakhstan",
   "metadata": {},
   "outputs": [
    {
     "name": "stdout",
     "output_type": "stream",
     "text": [
      "Urdu\n",
      "Turkish\n",
      "Englidh\n",
      "Arabic\n"
     ]
    }
   ],
   "source": [
    "emp1 = Manager('Employee 1', '50', 'Manager', 'Urdu')\n",
    "emp2 = Manager('Employee 2', '40', 'HR', 'Turkish')\n",
    "emp3 = Manager('Employee 3', '30', 'Developer', 'Englidh')\n",
    "emp4 = Manager('Employee 4', '20', 'Intern', 'Arabic')\n",
    "\n",
    "emp1.Language()\n",
    "emp2.Language()\n",
    "emp3.Language()\n",
    "emp4.Language()"
   ]
  },
  {
   "cell_type": "code",
   "execution_count": null,
   "id": "appreciated-representation",
   "metadata": {},
   "outputs": [],
   "source": []
  }
 ],
 "metadata": {
  "kernelspec": {
   "display_name": "Python 3",
   "language": "python",
   "name": "python3"
  },
  "language_info": {
   "codemirror_mode": {
    "name": "ipython",
    "version": 3
   },
   "file_extension": ".py",
   "mimetype": "text/x-python",
   "name": "python",
   "nbconvert_exporter": "python",
   "pygments_lexer": "ipython3",
   "version": "3.8.5"
  }
 },
 "nbformat": 4,
 "nbformat_minor": 5
}
